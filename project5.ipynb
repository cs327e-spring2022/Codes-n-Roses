{
 "cells": [
  {
   "cell_type": "code",
   "execution_count": 4,
   "metadata": {},
   "outputs": [
    {
     "name": "stdout",
     "output_type": "stream",
     "text": [
      "env: BASE_DIR=/home/jupyter/snippets_bkp\n"
     ]
    }
   ],
   "source": [
    "%env BASE_DIR=/home/jupyter/snippets_bkp"
   ]
  },
  {
   "cell_type": "code",
   "execution_count": 6,
   "metadata": {},
   "outputs": [
    {
     "name": "stdout",
     "output_type": "stream",
     "text": [
      "Copying gs://cs327e-open-access/shopify.zip...\n",
      "/ [1 files][  3.2 MiB/  3.2 MiB]                                                \n",
      "Operation completed over 1 objects/3.2 MiB.                                      \n",
      "Archive:  shopify.zip\n",
      "   creating: shopify/\n",
      "  inflating: __MACOSX/._shopify      \n",
      "  inflating: shopify/apps_categories.csv  \n",
      "  inflating: __MACOSX/shopify/._apps_categories.csv  \n",
      "  inflating: shopify/categories.csv  \n",
      "  inflating: __MACOSX/shopify/._categories.csv  \n",
      "  inflating: shopify/reviews.csv     \n",
      "  inflating: __MACOSX/shopify/._reviews.csv  \n",
      "  inflating: shopify/.DS_Store       \n",
      "  inflating: __MACOSX/shopify/._.DS_Store  \n",
      "  inflating: shopify/key_benefits.csv  \n",
      "  inflating: __MACOSX/shopify/._key_benefits.csv  \n",
      "  inflating: shopify/pricing_plan_features.csv  \n",
      "  inflating: __MACOSX/shopify/._pricing_plan_features.csv  \n",
      "  inflating: shopify/pricing_plans.csv  \n",
      "  inflating: __MACOSX/shopify/._pricing_plans.csv  \n",
      "  inflating: shopify/apps.csv        \n",
      "  inflating: __MACOSX/shopify/._apps.csv  \n"
     ]
    }
   ],
   "source": [
    " !gsutil cp gs://cs327e-open-access/shopify.zip .\n",
    " !unzip shopify.zip"
   ]
  },
  {
   "cell_type": "code",
   "execution_count": 1,
   "metadata": {},
   "outputs": [],
   "source": [
    "import pandas as pd\n",
    "from google.cloud import firestore\n",
    "db = firestore.Client()"
   ]
  },
  {
   "cell_type": "code",
   "execution_count": 12,
   "metadata": {},
   "outputs": [],
   "source": [
    "batch = db.batch()\n",
    "\n",
    "df_apps_categories = pd.read_csv('shopify/apps_categories.csv', sep=',', header=0, lineterminator='\\n').values.tolist()\n",
    "df_apps = pd.read_csv('shopify/apps.csv', sep=',', header=0, lineterminator='\\n').values.tolist()\n",
    "df_categories = pd.read_csv('shopify/categories.csv', sep=',', header=0, lineterminator='\\n').values.tolist()\n",
    "df_key_benefits = pd.read_csv('shopify/key_benefits.csv', sep=',', header=0, lineterminator='\\n').values.tolist()\n",
    "df_pricing_plan_features = pd.read_csv('shopify/pricing_plan_features.csv', sep=',', header=0, lineterminator='\\n')\n",
    "column_names = [\"pricing_plan_id\", \"app_id\", \"feature\"]\n",
    "df_pricing_plan_features = df_pricing_plan_features.reindex(columns=column_names).values.tolist()\n",
    "df_pricing_plans = pd.read_csv('shopify/pricing_plans.csv', sep=',', header=0, lineterminator='\\n').values.tolist()\n",
    "df_reviews = pd.read_csv('shopify/reviews.csv', sep=',', header=0, lineterminator='\\n').values.tolist()\n"
   ]
  },
  {
   "cell_type": "code",
   "execution_count": 14,
   "metadata": {},
   "outputs": [],
   "source": [
    "#Creating apps with subcollections of key_features,pricing_plans, and reviews\n",
    "\n",
    "counts = 0\n",
    "for row_app in df_apps:\n",
    "\n",
    "    appRecord = {}\n",
    "    appRecord['id'] = row_app[0] \n",
    "    appRecord['url'] = row_app[1]\n",
    "    appRecord['title'] = row_app[2]\n",
    "    appRecord['developer'] = row_app[3]\n",
    "    appRecord['developer_link'] = row_app[4]\n",
    "    appRecord['icon'] = row_app[5]\n",
    "    appRecord['rating'] = row_app[6]\n",
    "    appRecord['reviews_count'] = row_app[7]\n",
    "\n",
    "    appRef = db.collection('Apps').document(row_app[0])\n",
    "    batch.set(appRef,appRecord)\n",
    "\n",
    "\n",
    "    for benefits_row in df_key_benefits: \n",
    "        if row_app[0] == benefits_row[0]:\n",
    "            benefitsRecord = {} \n",
    "            benefitsRecord['title'] = benefits_row[1]\n",
    "            benefitsRecord['description'] = benefits_row[2]\n",
    "            benefitsRef = appRef.collection('Key_Benefits').document(benefits_row[0])\n",
    "            batch.set(benefitsRef,benefitsRecord)\n",
    "            counts += 1\n",
    "            if counts == 200:\n",
    "                batch.commit()\n",
    "                counts = 0\n",
    "    for pricing_row in df_pricing_plans: \n",
    "            if row_app[0] == pricing_row[1]:\n",
    "                pricingRecord = {} \n",
    "                pricingRecord['id'] = pricing_row[0]\n",
    "                pricingRecord['title'] = pricing_row[2]\n",
    "                pricingRecord['price'] = pricing_row[3]\n",
    "                pricingRef = appRef.collection('Pricing_Plans').document(pricing_row[0])\n",
    "                batch.set(pricingRef,pricingRecord)\n",
    "                counts += 1\n",
    "                if counts == 200:\n",
    "                    batch.commit()\n",
    "                    counts = 0\n",
    "    for reviews_row in df_reviews: \n",
    "            if row_app[0] == reviews_row[0]:\n",
    "                reviewRecord = {} \n",
    "                reviewRecord['author'] = reviews_row[1]\n",
    "                reviewRecord['rating'] = reviews_row[2]\n",
    "                reviewRecord['posted_at'] = reviews_row[3]\n",
    "                reviewsRef = appRef.collection('Reviews').document(reviews_row[0])\n",
    "                batch.set(reviewsRef,reviewRecord)\n",
    "                counts += 1\n",
    "                if counts == 200:\n",
    "                    batch.commit()\n",
    "                    counts = 0\n",
    "\n",
    "                \n",
    "        \n",
    "       \n"
   ]
  },
  {
   "cell_type": "code",
   "execution_count": 45,
   "metadata": {},
   "outputs": [],
   "source": [
    "#Creating categories with subcollections of apps_categories and apps \n",
    "batch = db.batch()\n",
    "counts = 0\n",
    "for row_category in df_categories:\n",
    "\n",
    "    categoryRecord = {}\n",
    "    categoryRecord['id'] = row_category[0] \n",
    "    categoryRecord['title'] = row_category[1]   \n",
    "    categoryRef = db.collection('Categories').document(row_category[0])\n",
    "    batch.set(categoryRef,categoryRecord)\n",
    "\n",
    "\n",
    "    for app_category_row in df_apps_categories: \n",
    "        if row_category[0] == app_category_row[1]:\n",
    "            for apps in df_apps:\n",
    "                if(app_category_row[0] == apps[0]):\n",
    "                    \n",
    "                    appRecord = {}\n",
    "                    appRecord['id'] = apps[0]\n",
    "                    appRecord['url'] = apps[1]\n",
    "                    appRecord['title'] = apps[2]\n",
    "                    appRecord['developer'] = apps[3]\n",
    "                    appRecord['developer_link'] = apps[4]\n",
    "                    appRecord['icon'] = apps[5]\n",
    "                    appRecord['rating'] = apps[6]\n",
    "                    appRecord['reviews_count'] = apps[7]\n",
    "\n",
    "                    appRef = categoryRef.collection('Apps').document(apps[0])\n",
    "                    batch.set(appRef,appRecord)\n",
    "                    counts += 1\n",
    "                    if counts == 200:\n",
    "                        batch.commit()\n",
    "                        counts = 0\n",
    " \n"
   ]
  },
  {
   "cell_type": "code",
   "execution_count": 20,
   "metadata": {},
   "outputs": [
    {
     "name": "stdout",
     "output_type": "stream",
     "text": [
      "There are 3547 documents in Apps collection\n"
     ]
    }
   ],
   "source": [
    "doc_apps = db.collection('Apps').stream()\n",
    "count = 0\n",
    "for i in doc_apps:\n",
    "    count += 1\n",
    "    \n",
    "print(\"There are {} documents in Apps collection\".format(count))"
   ]
  },
  {
   "cell_type": "code",
   "execution_count": 65,
   "metadata": {},
   "outputs": [
    {
     "name": "stdout",
     "output_type": "stream",
     "text": [
      "There are 3184 documents in Apps-Key_Benefits sub-collection\n",
      "There are 1708 documents in Apps-Reviews sub-collection\n",
      "There are 6275 documents in Apps-Pricing-Plans sub-collection\n"
     ]
    }
   ],
   "source": [
    "totalNumBenefits = 0\n",
    "totalNumReviews = 0\n",
    "totalNumPricingPlans = 0\n",
    "for app_row in df_apps:\n",
    "    totalNumBenefits+=len(list(db.collection('Apps').document(app_row[0]).collection('Key_Benefits').stream()))\n",
    "    totalNumReviews+= len(list(db.collection('Apps').document(app_row[0]).collection('Reviews').stream()))\n",
    "    totalNumPricingPlans+=len(list(db.collection('Apps').document(app_row[0]).collection('Pricing_Plans').stream()))\n",
    "    \n",
    "print(\"There are {} documents in Apps-Key_Benefits sub-collection\".format(totalNumBenefits))\n",
    "print(\"There are {} documents in Apps-Reviews sub-collection\".format(totalNumReviews))\n",
    "print(\"There are {} documents in Apps-Pricing-Plans sub-collection\".format(totalNumPricingPlans))"
   ]
  },
  {
   "cell_type": "code",
   "execution_count": 61,
   "metadata": {},
   "outputs": [
    {
     "name": "stdout",
     "output_type": "stream",
     "text": [
      "There are 12 documents in Categories collection\n"
     ]
    }
   ],
   "source": [
    "doc_cats = db.collection('Categories').stream()\n",
    "count = 0\n",
    "for i in doc_cats:\n",
    "    count += 1\n",
    "    \n",
    "print(\"There are {} documents in Categories collection\".format(count))"
   ]
  },
  {
   "cell_type": "code",
   "execution_count": 62,
   "metadata": {},
   "outputs": [
    {
     "name": "stdout",
     "output_type": "stream",
     "text": [
      "There are 5200 documents in Categories-Apps sub-collection\n"
     ]
    }
   ],
   "source": [
    "totalApps = 0\n",
    "for app_row in df_categories:\n",
    "        totalApps+= len(list(db.collection('Categories').document(app_row[0]).collection('Apps').stream()))\n",
    "\n",
    "    \n",
    "print(\"There are {} documents in Categories-Apps sub-collection\".format(totalApps))\n"
   ]
  },
  {
   "cell_type": "code",
   "execution_count": 59,
   "metadata": {},
   "outputs": [
    {
     "name": "stdout",
     "output_type": "stream",
     "text": [
      "fe5ae45c-379c-42bf-be7d-b5f6e15fc13c Customer Tags Union Works Apps 5.0 21\n",
      "f99bb1e3-f326-4f10-8901-491652e9809b Order Tagger Union Works Apps 5.0 68\n",
      "f864e3bd-da0e-41dc-be65-984325331475 SilkRoad ‑ Facebook Auto Ads SilkRoad 5.0 2\n",
      "f5344e64-9cda-4d97-b198-2aaeb5170518 Xporter Data Export Tool Modd Apps Inc. 5.0 223\n",
      "ed77a32d-0fa3-458b-b639-e01ea7b78ec0 FraudBlock Fraud Prevention ShopFox 5.0 6\n",
      "e0e231d6-4988-4a8c-ad84-cf18d0f38738 Automation Fox Automation Fox 5.0 1\n",
      "d75fa395-3a4d-41c3-88d1-2f802c1e2411 AirPower BaseGenius 5.0 1\n",
      "d0be03ff-f74d-4fb5-8d2c-79541a1aea1b Excelify Excelify.io 5.0 178\n",
      "c9a86f8c-817e-4bb5-bbdd-e0e669bd7816 UPC Code Manager Ventures & Adventures 5.0 1\n",
      "c7578030-19fd-42e1-a5a5-03c7861220aa EzySlips ‑ Shipping Automation Onjection Labs 5.0 219\n"
     ]
    }
   ],
   "source": [
    "query = db.collection('Categories').document(db.collection('Categories').where('title', '==','Productivity').get()[0].to_dict()[\"id\"]).collection('Apps').order_by(\"rating\",direction =firestore.Query.DESCENDING).limit(10).stream()\n",
    "\n",
    "for results in query:\n",
    "    print(results.to_dict()[\"id\"],results.to_dict()[\"title\"],results.to_dict()[\"developer\"],results.to_dict()[\"rating\"],results.to_dict()[\"reviews_count\"])\n"
   ]
  },
  {
   "cell_type": "code",
   "execution_count": 60,
   "metadata": {},
   "outputs": [
    {
     "name": "stdout",
     "output_type": "stream",
     "text": [
      "d9f142ee-b141-4dc4-9353-173db61d2eb0 Privy ‑ Exit Pop Ups & Email Privy 4.7 23078\n",
      "78ea0810-c008-4a4e-a82f-de0c790e3286 Free Shipping Bar Hextom 4.9 8737\n",
      "b88488b0-9912-44d3-b736-224c36f09d95 Sales Pop ‑ Popup Notification CartKit 4.8 6905\n",
      "e528a60e-94f8-4e92-80e2-5bc6013b8283 BEST Currency Converter Grizzly Apps 4.8 5986\n",
      "be2640c4-01b5-4d52-9f68-cae8c0734d0d Recart FB Messenger Marketing Recart 4.8 5596\n",
      "70bff9e0-4316-4cc6-84ce-92fcd1bc6925 EU Cookie Bar ‑ Cookie GDPR Booster Apps 4.7 5259\n",
      "171816e2-27d4-4552-a65e-ab44a312fe04 Sales Pop Master ‑ Countdown Autoketing 4.8 4931\n",
      "9025eff0-d714-4df1-930f-43f5582979ad Ultimate Sales Boost Hextom 4.8 4847\n",
      "404183ac-6d52-4960-85d2-8350f37c2f0b Ads by Varinode Varinode, Inc. 4.9 4245\n",
      "0380c5ed-7b91-4d4b-9a4e-f6a1c50269dd Quick Announcement Bar Hextom 4.9 4237\n"
     ]
    }
   ],
   "source": [
    "query = db.collection('Apps').order_by(\"reviews_count\",direction =firestore.Query.DESCENDING).limit(10).stream()\n",
    "\n",
    "for results in query:\n",
    "    print(results.to_dict()[\"id\"],results.to_dict()[\"title\"],results.to_dict()[\"developer\"],results.to_dict()[\"rating\"],results.to_dict()[\"reviews_count\"])\n"
   ]
  }
 ],
 "metadata": {
  "environment": {
   "kernel": "conda-root-py",
   "name": "common-cpu.m87",
   "type": "gcloud",
   "uri": "gcr.io/deeplearning-platform-release/base-cpu:m87"
  },
  "kernelspec": {
   "display_name": "Python [conda env:root] *",
   "language": "python",
   "name": "conda-root-py"
  },
  "language_info": {
   "codemirror_mode": {
    "name": "ipython",
    "version": 3
   },
   "file_extension": ".py",
   "mimetype": "text/x-python",
   "name": "python",
   "nbconvert_exporter": "python",
   "pygments_lexer": "ipython3",
   "version": "3.7.12"
  }
 },
 "nbformat": 4,
 "nbformat_minor": 4
}
