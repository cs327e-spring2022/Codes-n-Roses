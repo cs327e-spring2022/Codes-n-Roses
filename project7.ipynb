{
 "cells": [
  {
   "cell_type": "code",
   "execution_count": 1,
   "id": "a6b319da-4eea-4636-bcf6-0be037fe1f2a",
   "metadata": {},
   "outputs": [
    {
     "name": "stdout",
     "output_type": "stream",
     "text": [
      "env: BASE_DIR=/home/jupyter/prep\n"
     ]
    }
   ],
   "source": [
    "%env BASE_DIR=/home/jupyter/prep"
   ]
  },
  {
   "cell_type": "code",
   "execution_count": 3,
   "id": "bc6fba2f-28c1-4c73-8f25-093ea7191bb2",
   "metadata": {},
   "outputs": [
    {
     "name": "stdout",
     "output_type": "stream",
     "text": [
      "Copying gs://cs327e-open-access/airbnb.zip...\n",
      "/ [1 files][ 13.0 MiB/ 13.0 MiB]                                                \n",
      "Operation completed over 1 objects/13.0 MiB.                                     \n"
     ]
    }
   ],
   "source": [
    "!gsutil cp gs://cs327e-open-access/airbnb.zip ."
   ]
  },
  {
   "cell_type": "code",
   "execution_count": 4,
   "id": "36ad99c0-1764-432a-a0a2-b37ff09f4c32",
   "metadata": {},
   "outputs": [
    {
     "name": "stdout",
     "output_type": "stream",
     "text": [
      "Archive:  airbnb.zip\n",
      "  inflating: airbnb/listings.csv     \n",
      "  inflating: airbnb/load_data.cypher  \n",
      "  inflating: airbnb/reviews.csv      \n"
     ]
    }
   ],
   "source": [
    "!unzip airbnb.zip"
   ]
  },
  {
   "cell_type": "code",
   "execution_count": 5,
   "id": "98529bc8-fb13-4f10-b828-0d71f0bdcfe5",
   "metadata": {},
   "outputs": [
    {
     "name": "stdout",
     "output_type": "stream",
     "text": [
      "env: USER=neo4j\n",
      "env: PW=abcd\n"
     ]
    }
   ],
   "source": [
    "%env USER=neo4j\n",
    "%env PW=abcd"
   ]
  },
  {
   "cell_type": "code",
   "execution_count": 10,
   "id": "b25b68fb-ad00-4cfc-8a31-d719ac82c65a",
   "metadata": {},
   "outputs": [
    {
     "name": "stdout",
     "output_type": "stream",
     "text": [
      "env: CYPHER=/home/jupyter/neo4j-community-4.3.3/bin/cypher-shell\n"
     ]
    }
   ],
   "source": [
    "%env CYPHER=/home/jupyter/neo4j-community-4.3.3/bin/cypher-shell"
   ]
  },
  {
   "cell_type": "code",
   "execution_count": 11,
   "id": "d4b01307-ef5f-4120-aa25-911a5708cb83",
   "metadata": {},
   "outputs": [],
   "source": [
    "CONNECT=\"$CYPHER -u $USER -p $PW\""
   ]
  },
  {
   "cell_type": "code",
   "execution_count": 12,
   "id": "0c7e4e43-b2d5-49fb-be10-5a8d25831f05",
   "metadata": {},
   "outputs": [
    {
     "name": "stdout",
     "output_type": "stream",
     "text": [
      "0 rows\n",
      "ready to start consuming query after 41 ms, results consumed after another 0 ms\n"
     ]
    }
   ],
   "source": [
    "!$CONNECT \"MATCH (n) DETACH DELETE n\""
   ]
  },
  {
   "cell_type": "code",
   "execution_count": 13,
   "id": "60a65430-1827-422d-9e8a-6bbd65ed55b5",
   "metadata": {},
   "outputs": [
    {
     "name": "stdout",
     "output_type": "stream",
     "text": [
      "COUNT(l)\n",
      "5835\n",
      "COUNT(a)\n",
      "42\n",
      "COUNT(n)\n",
      "41\n",
      "COUNT(h)\n",
      "4633\n",
      "COUNT(u)\n",
      "55917\n",
      "COUNT(r)\n",
      "62976\n"
     ]
    }
   ],
   "source": [
    "!cat /home/jupyter/airbnb/load_data.cypher | {CONNECT} --format plain"
   ]
  },
  {
   "cell_type": "code",
   "execution_count": 19,
   "id": "d6c44123-53a1-4db6-b2e4-b652bd8342b0",
   "metadata": {},
   "outputs": [
    {
     "name": "stdout",
     "output_type": "stream",
     "text": [
      "+-----------------------------+\n",
      "| labels(n)        | count(n) |\n",
      "+-----------------------------+\n",
      "| [\"Listing\"]      | 5835     |\n",
      "| [\"Amenity\"]      | 42       |\n",
      "| [\"Neighborhood\"] | 41       |\n",
      "| [\"Host\"]         | 4633     |\n",
      "| [\"User\"]         | 55917    |\n",
      "| [\"Review\"]       | 62976    |\n",
      "+-----------------------------+\n",
      "\n",
      "6 rows\n",
      "ready to start consuming query after 1 ms, results consumed after another 55 ms\n"
     ]
    }
   ],
   "source": [
    "!{CONNECT} \"MATCH (n) RETURN distinct labels(n), count(n)\""
   ]
  },
  {
   "cell_type": "code",
   "execution_count": 20,
   "id": "9eed70c0-6e2b-446a-94f4-1608f30960ca",
   "metadata": {},
   "outputs": [
    {
     "name": "stdout",
     "output_type": "stream",
     "text": [
      "+-------------------+\n",
      "| type(r)           |\n",
      "+-------------------+\n",
      "| \"IN_NEIGHBORHOOD\" |\n",
      "| \"HAS\"             |\n",
      "| \"HOSTS\"           |\n",
      "| \"WROTE\"           |\n",
      "| \"REVIEWS\"         |\n",
      "+-------------------+\n",
      "\n",
      "5 rows\n",
      "ready to start consuming query after 44 ms, results consumed after another 550 ms\n"
     ]
    }
   ],
   "source": [
    "!{CONNECT} \"MATCH ()-[r]->() RETURN distinct type(r) LIMIT 10\""
   ]
  },
  {
   "cell_type": "code",
   "execution_count": 57,
   "id": "99e59ba6-6729-4884-aad1-46d3ba02de7c",
   "metadata": {},
   "outputs": [
    {
     "name": "stdout",
     "output_type": "stream",
     "text": [
      "+--------------------------------+\n",
      "| h.location                     |\n",
      "+--------------------------------+\n",
      "| \"Austin, Texas, United States\" |\n",
      "| \"Austin, Texas, United States\" |\n",
      "| \"Austin, Texas, United States\" |\n",
      "| \"US\"                           |\n",
      "| \"Austin, Texas, United States\" |\n",
      "| \"Austin, Texas, United States\" |\n",
      "| \"Austin, Texas, United States\" |\n",
      "| \"US\"                           |\n",
      "| \"Austin, Texas, United States\" |\n",
      "| \"US\"                           |\n",
      "+--------------------------------+\n",
      "\n",
      "10 rows\n",
      "ready to start consuming query after 20 ms, results consumed after another 0 ms\n"
     ]
    }
   ],
   "source": [
    "!{CONNECT} \"MATCH (h:Host) RETURN h.location LIMIT 10\""
   ]
  },
  {
   "cell_type": "code",
   "execution_count": 58,
   "id": "853b66f5-5b24-41e4-a4aa-106efdafe7d9",
   "metadata": {},
   "outputs": [
    {
     "name": "stdout",
     "output_type": "stream",
     "text": [
      "+------------------------------+\n",
      "| a.name                       |\n",
      "+------------------------------+\n",
      "| \"Cable TV\"                   |\n",
      "| \"Internet\"                   |\n",
      "| \"Wireless Internet\"          |\n",
      "| \"Air Conditioning\"           |\n",
      "| \"Kitchen\"                    |\n",
      "| \"Pets live on this property\" |\n",
      "| \"Dog(s)\"                     |\n",
      "| \"Other pet(s)\"               |\n",
      "| \"Hot Tub\"                    |\n",
      "| \"Indoor Fireplace\"           |\n",
      "+------------------------------+\n",
      "\n",
      "10 rows\n",
      "ready to start consuming query after 16 ms, results consumed after another 1 ms\n"
     ]
    }
   ],
   "source": [
    "!{CONNECT} \"MATCH (a:Amenity) RETURN a.name LIMIT 10\""
   ]
  },
  {
   "cell_type": "code",
   "execution_count": 60,
   "id": "003a384c-d4c7-4f6f-8484-b37284e95aea",
   "metadata": {},
   "outputs": [
    {
     "name": "stdout",
     "output_type": "stream",
     "text": [
      "+-----------------+\n",
      "| n.name          |\n",
      "+-----------------+\n",
      "| \"Circle C\"      |\n",
      "| \"St. Johns\"     |\n",
      "| \"Steiner Ranch\" |\n",
      "| \"Oak Hill\"      |\n",
      "| \"Brentwood\"     |\n",
      "| NULL            |\n",
      "| \"Hancock\"       |\n",
      "| NULL            |\n",
      "| NULL            |\n",
      "| NULL            |\n",
      "+-----------------+\n",
      "\n",
      "10 rows\n",
      "ready to start consuming query after 18 ms, results consumed after another 1 ms\n"
     ]
    }
   ],
   "source": [
    "!{CONNECT} \"MATCH (n:Neighborhood) RETURN n.name LIMIT 10\""
   ]
  },
  {
   "cell_type": "code",
   "execution_count": 62,
   "id": "a1aac7d3-7f59-468f-82c6-7ba40aba7270",
   "metadata": {},
   "outputs": [
    {
     "name": "stdout",
     "output_type": "stream",
     "text": [
      "+----------------+\n",
      "| l.accommodates |\n",
      "+----------------+\n",
      "| 6              |\n",
      "| 2              |\n",
      "| 2              |\n",
      "| 2              |\n",
      "| 6              |\n",
      "| 2              |\n",
      "| 2              |\n",
      "| 2              |\n",
      "| 6              |\n",
      "| 2              |\n",
      "+----------------+\n",
      "\n",
      "10 rows\n",
      "ready to start consuming query after 22 ms, results consumed after another 0 ms\n"
     ]
    }
   ],
   "source": [
    "!{CONNECT} \"MATCH (l:Listing) RETURN l.accommodates LIMIT 10\""
   ]
  },
  {
   "cell_type": "code",
   "execution_count": 63,
   "id": "e971a8d0-1fad-4126-8af8-5c6431645a6f",
   "metadata": {},
   "outputs": [
    {
     "name": "stdout",
     "output_type": "stream",
     "text": [
      "+------------+\n",
      "| l.name     |\n",
      "+------------+\n",
      "| \"Inessa\"   |\n",
      "| \"Colibri\"  |\n",
      "| \"Giuseppe\" |\n",
      "| \"Sophia\"   |\n",
      "| \"Taylor\"   |\n",
      "| \"Olivia\"   |\n",
      "| \"Marki\"    |\n",
      "| \"Vinay\"    |\n",
      "| \"Rob\"      |\n",
      "| \"Isabel\"   |\n",
      "+------------+\n",
      "\n",
      "10 rows\n",
      "ready to start consuming query after 18 ms, results consumed after another 0 ms\n"
     ]
    }
   ],
   "source": [
    "!{CONNECT} \"MATCH (l:User) RETURN l.name LIMIT 10\""
   ]
  },
  {
   "cell_type": "code",
   "execution_count": 26,
   "id": "571d8386-bfd4-44bd-8188-254aca405cf7",
   "metadata": {},
   "outputs": [
    {
     "name": "stdout",
     "output_type": "stream",
     "text": [
      "+---------------------------------------------------------------------------------------------------------------------------------------------------------------------------------------------------------------------------------+\n",
      "| Listing                                                                                                                                                                                                                         |\n",
      "+---------------------------------------------------------------------------------------------------------------------------------------------------------------------------------------------------------------------------------+\n",
      "| (:Listing {bedrooms: 1, listing_id: \"72635\", availability_365: 240, price: 300.0, accommodates: 6, name: \"3 Private Bedrooms, SW Austin\", property_type: \"House\", bathrooms: 2})                                                |\n",
      "| (:Listing {bedrooms: 1, cleaning_fee: 75.0, weekly_price: 600.0, listing_id: \"5386323\", availability_365: 364, price: 99.0, accommodates: 2, name: \"Cricket Trailer\", property_type: \"Camper/RV\", bathrooms: 0})                |\n",
      "| (:Listing {bedrooms: 1, listing_id: \"8826517\", availability_365: 365, price: 100.0, accommodates: 2, name: \"Private room 1 in South Austin\", property_type: \"House\", bathrooms: 1})                                             |\n",
      "| (:Listing {bedrooms: 1, listing_id: \"8828616\", availability_365: 365, price: 100.0, accommodates: 2, name: \"Private room 2 in South Austin\", property_type: \"House\", bathrooms: 1})                                             |\n",
      "| (:Listing {bedrooms: 3, cleaning_fee: 125.0, listing_id: \"8536913\", availability_365: 358, price: 599.0, accommodates: 6, name: \"Brand-New 3BR Austin Home\", property_type: \"House\", bathrooms: 2})                             |\n",
      "| (:Listing {bedrooms: 1, listing_id: \"8542056\", availability_365: 365, price: 100.0, accommodates: 2, name: \"Private room & Bathroom.\", property_type: \"House\", bathrooms: 1})                                                   |\n",
      "| (:Listing {bedrooms: 1, cleaning_fee: 15.0, listing_id: \"6385948\", availability_365: 301, price: 54.0, accommodates: 2, name: \"S. Austin, convenient to MoPac\", property_type: \"Bed & Breakfast\", bathrooms: 1})                |\n",
      "| (:Listing {bedrooms: 1, cleaning_fee: 25.0, listing_id: \"8486890\", availability_365: 312, price: 40.0, accommodates: 2, name: \"Cozy private room 15 mins frm dtwn\", property_type: \"House\", bathrooms: 1})                      |\n",
      "| (:Listing {bedrooms: 1, weekly_price: 750.0, listing_id: \"8633580\", availability_365: 355, price: 130.0, accommodates: 6, name: \"Room to rent\", property_type: \"House\", bathrooms: 1})                                          |\n",
      "| (:Listing {bedrooms: 1, cleaning_fee: 10.0, weekly_price: 275.0, listing_id: \"5293632\", availability_365: 364, price: 44.0, accommodates: 2, name: \"Southwest Austin Retreat\", property_type: \"House\", bathrooms: 1})           |\n",
      "| (:Listing {bedrooms: 1, weekly_price: 499.0, listing_id: \"7659967\", availability_365: 364, price: 99.0, accommodates: 2, name: \"Bright Comfy Room in Spacious Home\", property_type: \"House\", bathrooms: 1})                     |\n",
      "| (:Listing {bedrooms: 1, cleaning_fee: 50.0, listing_id: \"4045302\", availability_365: 84, price: 50.0, accommodates: 2, name: \"Studio apartment w/ Pvt bath, Pool \", property_type: \"House\", bathrooms: 1})                      |\n",
      "| (:Listing {bedrooms: 1, weekly_price: 350.0, listing_id: \"2989616\", availability_365: 360, price: 49.0, accommodates: 2, name: \"South Austin Private room2\", property_type: \"House\", bathrooms: 1})                             |\n",
      "| (:Listing {bedrooms: 1, weekly_price: 300.0, listing_id: \"2853144\", availability_365: 364, price: 50.0, accommodates: 2, name: \"South Austin Private room\", property_type: \"House\", bathrooms: 1})                              |\n",
      "| (:Listing {bedrooms: 1, cleaning_fee: 75.0, listing_id: \"330710\", availability_365: 365, price: 55.0, accommodates: 2, name: \"Austin Zen Stay / Longhorn Room 10\", property_type: \"Bed & Breakfast\", bathrooms: 1})             |\n",
      "| (:Listing {bedrooms: 1, cleaning_fee: 100.0, listing_id: \"5370554\", availability_365: 238, price: 180.0, accommodates: 2, name: \"Cozy apartment in N. Austin \", property_type: \"Apartment\", bathrooms: 1})                      |\n",
      "| (:Listing {bedrooms: 1, weekly_price: 189.0, listing_id: \"6629676\", availability_365: 356, price: 36.0, accommodates: 2, name: \"Nice and quiet private guest room\", property_type: \"House\", bathrooms: 1})                      |\n",
      "| (:Listing {bedrooms: 1, cleaning_fee: 25.0, weekly_price: 750.0, listing_id: \"8689127\", availability_365: 365, price: 125.0, accommodates: 2, name: \"Near downtown on greenbelt!\", property_type: \"House\", bathrooms: 1})       |\n",
      "| (:Listing {bedrooms: 2, listing_id: \"7988725\", availability_365: 69, price: 59.0, accommodates: 6, name: \"Lovely apartment in gated community\", property_type: \"Apartment\", bathrooms: 2})                                      |\n",
      "| (:Listing {bedrooms: 1, cleaning_fee: 20.0, weekly_price: 250.0, listing_id: \"5260962\", availability_365: 254, price: 49.0, accommodates: 2, name: \"Master Bed in French Country Home!\", property_type: \"House\", bathrooms: 1}) |\n",
      "| (:Listing {bedrooms: 1, listing_id: \"6628321\", availability_365: 132, price: 40.0, accommodates: 2, name: \"Williamson House\", property_type: \"House\", bathrooms: 1})                                                            |\n",
      "| (:Listing {bedrooms: 1, listing_id: \"7451505\", availability_365: 365, price: 150.0, accommodates: 1, name: \"Private room on Walnut Creek\", property_type: \"House\", bathrooms: 1})                                               |\n",
      "| (:Listing {bedrooms: 1, cleaning_fee: 35.0, listing_id: \"1704476\", availability_365: 365, price: 175.0, accommodates: 3, name: \"Huge rental 10 min to everything!\", property_type: \"House\", bathrooms: 1})                      |\n",
      "| (:Listing {bedrooms: 1, weekly_price: 300.0, listing_id: \"2432311\", availability_365: 153, price: 50.0, accommodates: 6, name: \"Large Private Bed/Bathroom in Home\", property_type: \"House\", bathrooms: 1})                     |\n",
      "| (:Listing {bedrooms: 4, listing_id: \"9298752\", availability_365: 360, price: 120.0, accommodates: 5, name: \"Comfortable relaxing house\", property_type: \"House\", bathrooms: 2})                                                 |\n",
      "| (:Listing {bedrooms: 3, listing_id: \"7725153\", availability_365: 68, price: 450.0, accommodates: 8, name: \"3 bedroom home 15 minutes from DT\", property_type: \"House\", bathrooms: 2})                                           |\n",
      "| (:Listing {bedrooms: 1, cleaning_fee: 20.0, listing_id: \"3928248\", availability_365: 354, price: 49.0, accommodates: 2, name: \"Private Bed in Cozy French House!\", property_type: \"House\", bathrooms: 1})                       |\n",
      "| (:Listing {bedrooms: 1, weekly_price: 189.0, listing_id: \"6749902\", availability_365: 364, price: 36.0, accommodates: 2, name: \"Cozy and private guest room\", property_type: \"House\", bathrooms: 1})                            |\n",
      "| (:Listing {bedrooms: 1, cleaning_fee: 15.0, weekly_price: 350.0, listing_id: \"6169536\", availability_365: 365, price: 75.0, accommodates: 2, name: \"Near downtown Austin on greenbelt!\", property_type: \"House\", bathrooms: 1}) |\n",
      "| (:Listing {bedrooms: 1, listing_id: \"5839837\", availability_365: 353, price: 50.0, accommodates: 2, name: \"Room in a House in Northeast Austin\", property_type: \"House\", bathrooms: 1})                                         |\n",
      "+---------------------------------------------------------------------------------------------------------------------------------------------------------------------------------------------------------------------------------+\n",
      "\n",
      "30 rows\n",
      "ready to start consuming query after 18 ms, results consumed after another 3 ms\n"
     ]
    }
   ],
   "source": [
    "!{CONNECT} \"MATCH (Listing) RETURN Listing LIMIT 30\""
   ]
  },
  {
   "cell_type": "code",
   "execution_count": 43,
   "id": "c9f3667c-5fb9-4877-8f4d-e07e8397a0ab",
   "metadata": {},
   "outputs": [
    {
     "name": "stdout",
     "output_type": "stream",
     "text": [
      "+-----------------------------+\n",
      "| labels(n)        | count(n) |\n",
      "+-----------------------------+\n",
      "| [\"Listing\"]      | 5835     |\n",
      "| [\"Amenity\"]      | 42       |\n",
      "| [\"Neighborhood\"] | 41       |\n",
      "| [\"Host\"]         | 4633     |\n",
      "| [\"User\"]         | 55917    |\n",
      "+-----------------------------+\n",
      "\n",
      "5 rows\n",
      "ready to start consuming query after 2 ms, results consumed after another 48 ms\n"
     ]
    }
   ],
   "source": [
    "!{CONNECT} \"MATCH (n) RETURN distinct labels(n), count(n) LIMIT 5\""
   ]
  },
  {
   "cell_type": "markdown",
   "id": "af1578b2-1eab-49f6-8994-79d33f82fc72",
   "metadata": {},
   "source": [
    "## Q1 How many hosts are located in \"Austin, Texas, United States\"?\n"
   ]
  },
  {
   "cell_type": "code",
   "execution_count": 17,
   "id": "114f1567-3263-45ce-b0bd-280ce5a93d0f",
   "metadata": {},
   "outputs": [
    {
     "name": "stdout",
     "output_type": "stream",
     "text": [
      "+----------+\n",
      "| count(h) |\n",
      "+----------+\n",
      "| 3774     |\n",
      "+----------+\n",
      "\n",
      "1 row\n",
      "ready to start consuming query after 37 ms, results consumed after another 16 ms\n"
     ]
    }
   ],
   "source": [
    "!{CONNECT} \"MATCH (h:Host {{location: 'Austin, Texas, United States'}}) RETURN count(h)\""
   ]
  },
  {
   "cell_type": "markdown",
   "id": "cc3edf03-6571-4319-b309-21e09fa4f87a",
   "metadata": {},
   "source": [
    "## Q2 Which listings does host_id = \"4641823\" have? Return the listing name, property_type,price, and availability_365 sorted by price. Limit the result count to 10."
   ]
  },
  {
   "cell_type": "code",
   "execution_count": 22,
   "id": "6c544a13-9eeb-4d0b-b16a-50fc3ace9c6d",
   "metadata": {},
   "outputs": [
    {
     "name": "stdout",
     "output_type": "stream",
     "text": [
      "+----------------------------------------------------------------------------------------+\n",
      "| l.name                                | l.property_type | l.price | l.availability_365 |\n",
      "+----------------------------------------------------------------------------------------+\n",
      "| \"1BR Convenient Austin Condo \"        | \"Apartment\"     | 93.0    | 354                |\n",
      "| \"1BR Inviting Downtown Condo, Pool\"   | \"Apartment\"     | 99.0    | 335                |\n",
      "| \"2BR/1.5BA Charming House Off SoCo\"   | \"House\"         | 110.0   | 357                |\n",
      "| \"2BR Prime East-Side Downtown\"        | \"House\"         | 121.0   | 341                |\n",
      "| \"1BR SoCo Treehouse Studio\"           | \"House\"         | 129.0   | 327                |\n",
      "| \"1BR/1.5BA East 6th, Colorful 2Story\" | \"Apartment\"     | 134.0   | 344                |\n",
      "| \"3BR Prestigious Home Travis Heights\" | \"House\"         | 138.0   | 0                  |\n",
      "| \"1BR/1.5BA Perfectly Located Casita\"  | \"House\"         | 140.0   | 351                |\n",
      "| \"3BR/2BA Inviting Retreat off SoCo\"   | \"House\"         | 145.0   | 353                |\n",
      "| \"1BR Chic Studio, Hyde Park, Austin\"  | \"Apartment\"     | 149.0   | 354                |\n",
      "+----------------------------------------------------------------------------------------+\n",
      "\n",
      "10 rows\n",
      "ready to start consuming query after 174 ms, results consumed after another 10019 ms\n"
     ]
    }
   ],
   "source": [
    "!{CONNECT} \"MATCH (h:Host {{host_id:'4641823'}}) -[r*]-> (l:Listing) RETURN l.name,l.property_type,l.price,l.availability_365 ORDER BY l.price LIMIT 10\""
   ]
  },
  {
   "cell_type": "markdown",
   "id": "ed2ec4ef-4148-48fd-aba4-43c802d94697",
   "metadata": {},
   "source": [
    "## Q3 Which users wrote a review for listing_id = \"5293632\"? Return the user’s id and name sorted alphabetically by the user’s name. Limit the result count to 10."
   ]
  },
  {
   "cell_type": "code",
   "execution_count": 23,
   "id": "da6ab5f9-38e7-4608-9fb1-3577e9de996f",
   "metadata": {},
   "outputs": [
    {
     "name": "stdout",
     "output_type": "stream",
     "text": [
      "+--------------------------------+\n",
      "| u.user_id  | u.name            |\n",
      "+--------------------------------+\n",
      "| \"18286390\" | \"Annie\"           |\n",
      "| \"30193020\" | \"Carole\"          |\n",
      "| \"16497582\" | \"Cory\"            |\n",
      "| \"35022795\" | \"Craig And Trina\" |\n",
      "| \"13281665\" | \"Dianne\"          |\n",
      "| \"29601600\" | \"Hannah\"          |\n",
      "| \"11940539\" | \"Jacob\"           |\n",
      "| \"3213433\"  | \"Jessie\"          |\n",
      "| \"41722221\" | \"Johannes\"        |\n",
      "| \"28480571\" | \"Ju-Ju\"           |\n",
      "+--------------------------------+\n",
      "\n",
      "10 rows\n",
      "ready to start consuming query after 84 ms, results consumed after another 1410 ms\n"
     ]
    }
   ],
   "source": [
    "!{CONNECT} \"MATCH (u:User) -[r*]-> (l:Listing{{listing_id:'5293632'}}) RETURN u.user_id,u.name ORDER BY u.name LIMIT 10\""
   ]
  },
  {
   "cell_type": "markdown",
   "id": "be972a85-549e-4dea-93b6-96930102dade",
   "metadata": {},
   "source": [
    "## Q4 Which users wrote a review for any listing which has the amenities \"Washer / Dryer\"? Return the user’s id and name sorted alphabetically by name. Limit the result count to 10."
   ]
  },
  {
   "cell_type": "code",
   "execution_count": 27,
   "id": "e16f1263-fd7e-49f8-8f3d-5f5248bdcfb8",
   "metadata": {},
   "outputs": [
    {
     "name": "stdout",
     "output_type": "stream",
     "text": [
      "+-----------------------+\n",
      "| u.user_id | u.name    |\n",
      "+-----------------------+\n",
      "| \"1627563\" | \"Andrew\"  |\n",
      "| \"1631432\" | \"Bryan\"   |\n",
      "| \"2784203\" | \"Cindy\"   |\n",
      "| \"416470\"  | \"Henrik\"  |\n",
      "| \"386269\"  | \"Scott\"   |\n",
      "| \"430392\"  | \"Thaniya\" |\n",
      "| \"316879\"  | \"Warren\"  |\n",
      "+-----------------------+\n",
      "\n",
      "7 rows\n",
      "ready to start consuming query after 76 ms, results consumed after another 1748 ms\n"
     ]
    }
   ],
   "source": [
    "!{CONNECT} \"MATCH (u:User) -[r*]-> (a:Amenity{{name:'Washer / Dryer'}}) RETURN u.user_id,u.name ORDER BY u.name LIMIT 10\""
   ]
  },
  {
   "cell_type": "markdown",
   "id": "70610133-8ac5-4d5c-90da-394db579ab90",
   "metadata": {},
   "source": [
    "## Q5 Which listings have 3 bedrooms and are located in the Clarksville neighborhood? Return the listing name, property_type, price, and availability_365 sorted by price. Limit the result count to 5."
   ]
  },
  {
   "cell_type": "code",
   "execution_count": 29,
   "id": "ee655bd1-6f01-482a-a4f8-ce4f58f5140d",
   "metadata": {},
   "outputs": [
    {
     "name": "stdout",
     "output_type": "stream",
     "text": [
      "+----------------------------------------------------------------------------------------+\n",
      "| l.name                                | l.property_type | l.price | l.availability_365 |\n",
      "+----------------------------------------------------------------------------------------+\n",
      "| \"3BR/2.5BA Exquisite Townhouse\"       | \"House\"         | 222.0   | 358                |\n",
      "| \"Austin downtown hideaway\"            | \"House\"         | 249.0   | 364                |\n",
      "| \"3BR/2.5BA Tarrytown Duplex, Austin!\" | \"House\"         | 249.0   | 336                |\n",
      "| \"3BD Luxury Cottage by Lake Austin\"   | \"House\"         | 290.0   | 309                |\n",
      "| \"Entire Adorable Downtown House\"      | \"House\"         | 295.0   | 309                |\n",
      "+----------------------------------------------------------------------------------------+\n",
      "\n",
      "5 rows\n",
      "ready to start consuming query after 76 ms, results consumed after another 39 ms\n"
     ]
    }
   ],
   "source": [
    "!{CONNECT} \"MATCH (l:Listing{{bedrooms:3}}) -[r*]-> (n:Neighborhood{{name:'Clarksville'}}) RETURN l.name,l.property_type,l.price,l.availability_365 ORDER BY l.price LIMIT 5\""
   ]
  },
  {
   "cell_type": "markdown",
   "id": "e186fcaf-7b5c-4ac4-80a3-beb9f024c43f",
   "metadata": {},
   "source": [
    "## Q6 Which amenities are the most common? Return the name of the amenity and its frequency.Sort the results by count in descending order. Limit the result count to 5."
   ]
  },
  {
   "cell_type": "code",
   "execution_count": 32,
   "id": "5e58214c-5c1b-46ab-89b7-99e3fc59cd5f",
   "metadata": {},
   "outputs": [
    {
     "name": "stdout",
     "output_type": "stream",
     "text": [
      "+---------------------------------------+\n",
      "| a.name                     | count(r) |\n",
      "+---------------------------------------+\n",
      "| \"Air Conditioning\"         | 5615     |\n",
      "| \"Wireless Internet\"        | 5479     |\n",
      "| \"Heating\"                  | 5440     |\n",
      "| \"Kitchen\"                  | 5400     |\n",
      "| \"Free Parking on Premises\" | 5123     |\n",
      "+---------------------------------------+\n",
      "\n",
      "5 rows\n",
      "ready to start consuming query after 1 ms, results consumed after another 4126 ms\n"
     ]
    }
   ],
   "source": [
    "!{CONNECT} \"MATCH (l:Listing)-[r*]->(a:Amenity) RETURN distinct a.name, count(r) ORDER BY count(r) DESC LIMIT 5\""
   ]
  },
  {
   "cell_type": "markdown",
   "id": "c63c6a4d-a52e-47b8-8b9b-3e0802a446ca",
   "metadata": {},
   "source": [
    "## Q7 Which neighborhoods have the highest number of listings? Return the neighborhood’s name and zip code (i.e. neighborhood_id) along with the number of listings they have.Filter out any neighborhoods whose name is NULL from the query results. Sort the results by the number of listings in descending order. Limit the result count to 5."
   ]
  },
  {
   "cell_type": "code",
   "execution_count": 42,
   "id": "1c9bc020-fc91-4755-8f21-a9c95a244622",
   "metadata": {},
   "outputs": [
    {
     "name": "stdout",
     "output_type": "stream",
     "text": [
      "+-------------------------------------------------+\n",
      "| n.name           | n.neighborhood_id | count(r) |\n",
      "+-------------------------------------------------+\n",
      "| \"Clarksville\"    | \"78703\"           | 419      |\n",
      "| \"East Riverside\" | \"78741\"           | 414      |\n",
      "| \"Hancock\"        | \"78751\"           | 251      |\n",
      "| \"Hancock\"        | \"78705\"           | 242      |\n",
      "| \"Barton Hills\"   | \"78746\"           | 182      |\n",
      "+-------------------------------------------------+\n",
      "\n",
      "5 rows\n",
      "ready to start consuming query after 47 ms, results consumed after another 2568 ms\n"
     ]
    }
   ],
   "source": [
    "!{CONNECT} \"MATCH (l:Listing)-[r*]->(n:Neighborhood) WHERE NOT n.name = 'NULL' RETURN distinct n.name, n.neighborhood_id, count(r) ORDER BY count(r) DESC LIMIT 5 \""
   ]
  }
 ],
 "metadata": {
  "environment": {
   "kernel": "python3",
   "name": "common-cpu.m91",
   "type": "gcloud",
   "uri": "gcr.io/deeplearning-platform-release/base-cpu:m91"
  },
  "kernelspec": {
   "display_name": "Python 3",
   "language": "python",
   "name": "python3"
  },
  "language_info": {
   "codemirror_mode": {
    "name": "ipython",
    "version": 3
   },
   "file_extension": ".py",
   "mimetype": "text/x-python",
   "name": "python",
   "nbconvert_exporter": "python",
   "pygments_lexer": "ipython3",
   "version": "3.7.12"
  }
 },
 "nbformat": 4,
 "nbformat_minor": 5
}
